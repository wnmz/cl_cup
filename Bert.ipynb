{
  "nbformat": 4,
  "nbformat_minor": 0,
  "metadata": {
    "colab": {
      "provenance": []
    },
    "kernelspec": {
      "name": "python3",
      "display_name": "Python 3"
    },
    "language_info": {
      "name": "python"
    },
    "accelerator": "GPU",
    "gpuClass": "standard"
  },
  "cells": [
    {
      "cell_type": "code",
      "source": [
        "!pip install transformers"
      ],
      "metadata": {
        "id": "5HpRD_tTKMxP"
      },
      "execution_count": null,
      "outputs": []
    },
    {
      "cell_type": "code",
      "source": [
        "!pip install pyparsing"
      ],
      "metadata": {
        "id": "913tdxwWLOUN"
      },
      "execution_count": null,
      "outputs": []
    },
    {
      "cell_type": "code",
      "execution_count": 3,
      "metadata": {
        "id": "cQpV_9UEItLT"
      },
      "outputs": [],
      "source": [
        "import torch\n",
        "import argparse\n",
        "import torch.nn as nn\n",
        "import random\n",
        "import numpy as np\n",
        "import pandas as pd\n",
        "import matplotlib.pyplot as plt\n",
        "#import cv2\n",
        "#import tensorflow as tf\n",
        "import json\n",
        "import os\n",
        "from transformers import BertModel, BertTokenizer\n",
        "from transformers import BertForSequenceClassification\n",
        "from transformers import AdamW, get_linear_schedule_with_warmup\n",
        "from torch.utils.data import TensorDataset\n",
        "from torch.utils.data import DataLoader, RandomSampler, SequentialSampler\n",
        "from sklearn.model_selection import train_test_split\n",
        "from sklearn.metrics import accuracy_score\n",
        "\n",
        "pd.set_option('display.max_columns', None) # "
      ]
    },
    {
      "cell_type": "code",
      "source": [
        "# seed = 0\n",
        "# random.seed(seed)\n",
        "# np.random.seed(seed)\n",
        "# torch.manual_seed(seed)\n",
        "# torch.cuda.manual_seed_all(seed)"
      ],
      "metadata": {
        "id": "d8sfICOMV7Xo"
      },
      "execution_count": 4,
      "outputs": []
    },
    {
      "cell_type": "code",
      "source": [
        "# from google.colab import drive\n",
        "# drive.mount('/content/drive')\n",
        "# !unzip '/content/drive/MyDrive/CL CUp Data/Data.zip'"
      ],
      "metadata": {
        "id": "mQmb3CKpJ2sm"
      },
      "execution_count": 5,
      "outputs": []
    },
    {
      "cell_type": "code",
      "source": [
        "# # # ..  Датасет  .. # # #\n",
        "def get_data_from_json(path: str) -> pd.DataFrame:\n",
        "    with open(path, \"r\") as json_file:\n",
        "        json_lines = (line for line in json_file)\n",
        "        rows = (\n",
        "            {\n",
        "                \"text\": data[\"text\"],\n",
        "                \"comment\": comment[\"text\"],\n",
        "                \"score\": comment[\"score\"]\n",
        "            }\n",
        "            for line in json_lines\n",
        "            for data in [json.loads(line)]\n",
        "            for comment in data[\"comments\"]\n",
        "        )\n",
        "        return pd.DataFrame(rows, columns=[\"text\", \"comment\", \"score\"])\n",
        "\n",
        "path_curr = '/content'\n",
        "path_to_train = ''.join([path_curr, '/ranking_train.jsonl'])\n",
        "path_to_test = ''.join([path_curr, '/ranking_test.jsonl'])\n",
        "testtrue = get_data_from_json(path_to_test)\n",
        "traintrue = get_data_from_json(path_to_train)\n",
        "\n",
        "train, temp = train_test_split(traintrue, train_size=0.04, test_size=0.96,random_state=0)\n",
        "temp0, test = train_test_split(temp, train_size=0.9875, test_size=0.0125,random_state=0)\n",
        "\n",
        "\n",
        "                            "
      ],
      "metadata": {
        "id": "UN9JkpQGJBIC"
      },
      "execution_count": 14,
      "outputs": []
    },
    {
      "cell_type": "code",
      "source": [
        "# # # ..  Bert  .. # # #\n",
        "\n",
        "# # .. Токенизация .. # #\n",
        "model_name = 'bert-base-uncased'\n",
        "torch.backends.cudnn.enabled = False\n",
        "model = BertForSequenceClassification.from_pretrained(model_name, num_labels = 5)\n",
        "tokenizer = BertTokenizer.from_pretrained(model_name)\n",
        "\n",
        "# Преобразование текста в Bert-cовместимых токены и добавление\n",
        "# специальных [CLS] и [SEP] токенов, а также создание макси внимания,\n",
        "# т.е. какие токены игнорировать\n",
        "def MyTokenizerFunc(sample):\n",
        "    input_ids = []\n",
        "    attention_masks = []\n",
        "    for text in sample['comment']:\n",
        "        encoded_dict = tokenizer.encode_plus(text,\n",
        "                                             add_special_tokens=True,\n",
        "                                             max_length=128,\n",
        "                                             pad_to_max_length=True,\n",
        "                                             return_attention_mask=True,\n",
        "                                             return_tensors='pt')\n",
        "        input_ids.append(encoded_dict['input_ids'])\n",
        "        attention_masks.append(encoded_dict['attention_mask'])\n",
        "    #Объединяем токены и маски внимания в единый список, создаем лист меток\n",
        "    input_ids = torch.cat(input_ids, dim=0)\n",
        "    attention_masks = torch.cat(attention_masks, dim=0)\n",
        "    labels = torch.tensor(sample['score'].values)\n",
        "\n",
        "    dataset = TensorDataset(input_ids, attention_masks, labels)\n",
        "    return dataset"
      ],
      "metadata": {
        "id": "ZzcJwH_BJDUT",
        "colab": {
          "base_uri": "https://localhost:8080/"
        },
        "outputId": "bc8932da-f900-4d13-b6fe-a074f9a0794d"
      },
      "execution_count": 16,
      "outputs": [
        {
          "output_type": "stream",
          "name": "stderr",
          "text": [
            "Some weights of the model checkpoint at bert-base-uncased were not used when initializing BertForSequenceClassification: ['cls.seq_relationship.bias', 'cls.predictions.transform.LayerNorm.weight', 'cls.predictions.decoder.weight', 'cls.seq_relationship.weight', 'cls.predictions.transform.LayerNorm.bias', 'cls.predictions.bias', 'cls.predictions.transform.dense.bias', 'cls.predictions.transform.dense.weight']\n",
            "- This IS expected if you are initializing BertForSequenceClassification from the checkpoint of a model trained on another task or with another architecture (e.g. initializing a BertForSequenceClassification model from a BertForPreTraining model).\n",
            "- This IS NOT expected if you are initializing BertForSequenceClassification from the checkpoint of a model that you expect to be exactly identical (initializing a BertForSequenceClassification model from a BertForSequenceClassification model).\n",
            "Some weights of BertForSequenceClassification were not initialized from the model checkpoint at bert-base-uncased and are newly initialized: ['classifier.bias', 'classifier.weight']\n",
            "You should probably TRAIN this model on a down-stream task to be able to use it for predictions and inference.\n"
          ]
        }
      ]
    },
    {
      "cell_type": "code",
      "source": [
        "# Params and Data #\n",
        "epochs = 10\n",
        "batch_size = 100\n",
        "lr = 2e-5"
      ],
      "metadata": {
        "id": "BJt6MD8eRD8-"
      },
      "execution_count": 17,
      "outputs": []
    },
    {
      "cell_type": "code",
      "source": [
        "\n",
        "\n",
        "train_dataset = MyTokenizerFunc(train)\n",
        "dataloader = DataLoader(train_dataset, sampler=RandomSampler(train_dataset), batch_size=batch_size)\n",
        "optimizer = AdamW(model.parameters(), lr=lr, eps=1e-8)\n",
        "total_steps = len(dataloader) * epochs\n",
        "scheduler = get_linear_schedule_with_warmup(optimizer, num_warmup_steps=0, num_training_steps=total_steps)\n"
      ],
      "metadata": {
        "id": "1LBxWAdVJH7t",
        "colab": {
          "base_uri": "https://localhost:8080/"
        },
        "outputId": "3842f039-af88-4ab7-da74-50b89b884945"
      },
      "execution_count": 18,
      "outputs": [
        {
          "output_type": "stream",
          "name": "stderr",
          "text": [
            "Truncation was not explicitly activated but `max_length` is provided a specific value, please use `truncation=True` to explicitly truncate examples to max length. Defaulting to 'longest_first' truncation strategy. If you encode pairs of sequences (GLUE-style) with the tokenizer you can select this strategy more precisely by providing a specific strategy to `truncation`.\n",
            "/usr/local/lib/python3.9/dist-packages/transformers/tokenization_utils_base.py:2346: FutureWarning: The `pad_to_max_length` argument is deprecated and will be removed in a future version, use `padding=True` or `padding='longest'` to pad to the longest sequence in the batch, or use `padding='max_length'` to pad to a max length. In this case, you can give a specific length with `max_length` (e.g. `max_length=45`) or leave max_length to None to pad to the maximal input size of the model (e.g. 512 for Bert).\n",
            "  warnings.warn(\n",
            "/usr/local/lib/python3.9/dist-packages/transformers/optimization.py:391: FutureWarning: This implementation of AdamW is deprecated and will be removed in a future version. Use the PyTorch implementation torch.optim.AdamW instead, or set `no_deprecation_warning=True` to disable this warning\n",
            "  warnings.warn(\n"
          ]
        }
      ]
    },
    {
      "cell_type": "code",
      "source": [
        "# import os\n",
        "# os.environ['CUDA_LAUNCH_BLOCKING'] = '1'\n",
        "# torch.backends.cudnn.deterministic = True"
      ],
      "metadata": {
        "id": "NJKXmwhncjsO"
      },
      "execution_count": 19,
      "outputs": []
    },
    {
      "cell_type": "code",
      "source": [
        "# # .. Train .. # #\n",
        "device = torch.device('cuda:0' if torch.cuda.is_available() else 'cpu')\n",
        "model.to(device)\n",
        "model.train()\n",
        "\n",
        "for epoch in range(epochs):\n",
        "    print('Train epoch is: ', epoch)\n",
        "    count = 0\n",
        "    for batch in dataloader:\n",
        "        count += 1\n",
        "        print('batch no. ', count)\n",
        "        batch_input_ids = batch[0].to(device)\n",
        "        batch_attention_masks = batch[1].to(device)\n",
        "        batch_labels = batch[2].to(device)\n",
        "\n",
        "        model.zero_grad()\n",
        "        outputs = model(input_ids=batch_input_ids, attention_mask=batch_attention_masks, labels=batch_labels)\n",
        "        loss = outputs[0]\n",
        "        loss.backward()\n",
        "        optimizer.step()\n",
        "        scheduler.step()\n",
        "        torch.cuda.empty_cache()\n"
      ],
      "metadata": {
        "id": "8TIzwhPdJKBK"
      },
      "execution_count": null,
      "outputs": []
    },
    {
      "cell_type": "code",
      "source": [
        "# # .. Test .. # #\n",
        "test_dataset = MyTokenizerFunc(test)\n",
        "test_dataloader = DataLoader(test_dataset, sampler=SequentialSampler(test_dataset), batch_size=batch_size)\n"
      ],
      "metadata": {
        "id": "MiVe07d1yIml"
      },
      "execution_count": 25,
      "outputs": []
    },
    {
      "cell_type": "code",
      "source": [
        "\n",
        "model.eval()\n",
        "test_loss, test_accuracy = 0, 0\n",
        "nb_test_steps, nb_test_examples = 0, 0\n",
        "\n",
        "for batch in test_dataloader:\n",
        "    batch_input_ids = batch[0].to(device)\n",
        "    batch_attention_masks = batch[1].to(device)\n",
        "    batch_labels = batch[2].to(device)\n",
        "\n",
        "    with torch.no_grad():\n",
        "        outputs = model(input_ids=batch_input_ids, attention_mask=batch_attention_masks, labels=batch_labels)\n",
        "\n",
        "    logits = outputs[1].detach().cpu().numpy()\n",
        "    label_ids = batch_labels.to('cpu').numpy()\n",
        "    predicted_classes = np.argmax(logits, axis=1)\n",
        "\n",
        "    test_accuracy += accuracy_score(predicted_classes, label_ids)\n",
        "    nb_test_examples += len(label_ids)\n",
        "    nb_test_steps += 1\n",
        "\n",
        "print(\"Test Accuracy: {}\".format(test_accuracy/nb_test_steps))"
      ],
      "metadata": {
        "id": "4S4SZMwwJM4a",
        "colab": {
          "base_uri": "https://localhost:8080/"
        },
        "outputId": "8228d3cb-2db4-4f74-c722-119f49e4f5b6"
      },
      "execution_count": 28,
      "outputs": [
        {
          "output_type": "stream",
          "name": "stdout",
          "text": [
            "Test Accuracy: 0.2539405768813707\n"
          ]
        }
      ]
    }
  ]
}