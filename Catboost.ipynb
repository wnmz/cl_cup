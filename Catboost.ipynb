{
  "cells": [
    {
      "cell_type": "code",
      "execution_count": 1,
      "metadata": {
        "id": "F-fM9YeNSehU"
      },
      "outputs": [],
      "source": [
        "#for collab\n",
        "\n",
        "#from google.colab import drive\n",
        "#drive.mount('/content/drive')"
      ]
    },
    {
      "cell_type": "code",
      "execution_count": 2,
      "metadata": {
        "id": "XlauWye7SY_v"
      },
      "outputs": [],
      "source": [
        "import pandas as pd\n",
        "import numpy as np\n",
        "import json\n",
        "import re\n",
        "import spacy # NLP Preprocessor\n",
        "from textblob import TextBlob\n",
        "pd.set_option('display.max_colwidth', 1000)"
      ]
    },
    {
      "cell_type": "code",
      "execution_count": 3,
      "metadata": {
        "id": "YfqhSZIOSY_w"
      },
      "outputs": [],
      "source": [
        "def get_data_from_json(path: str) -> pd.DataFrame:\n",
        "    with open(path, \"r\") as json_file:\n",
        "        json_lines = (line for line in json_file)\n",
        "        rows = (\n",
        "            {\n",
        "                \"text\": data[\"text\"],\n",
        "                \"comment\": comment[\"text\"],\n",
        "                \"score\": comment[\"score\"]\n",
        "            }\n",
        "            for line in json_lines\n",
        "            for data in [json.loads(line)]\n",
        "            for comment in data[\"comments\"]\n",
        "        )\n",
        "        return pd.DataFrame(rows, columns=[\"text\", \"comment\", \"score\"])\n",
        "\n"
      ]
    },
    {
      "cell_type": "code",
      "execution_count": 4,
      "metadata": {
        "id": "LzEMGePgSY_x"
      },
      "outputs": [],
      "source": [
        "dataset_path = 'datasets/ranking_train.jsonl'\n",
        "df = get_data_from_json(dataset_path)"
      ]
    },
    {
      "cell_type": "code",
      "execution_count": 5,
      "metadata": {
        "id": "GTteiSlxSY_x"
      },
      "outputs": [],
      "source": [
        "#df.sample(3)"
      ]
    },
    {
      "cell_type": "markdown",
      "metadata": {
        "id": "V4MJT5lsSY_y"
      },
      "source": [
        "### Функци для предобработки текста"
      ]
    },
    {
      "cell_type": "code",
      "execution_count": 6,
      "metadata": {
        "id": "3sfgzqt3SY_z"
      },
      "outputs": [],
      "source": [
        "# Compile regex pattern for removing urls and special characters\n",
        "url_pattern = re.compile(r'(http|www)\\S+')\n",
        "special_char_pattern = re.compile('[^A-Za-z0-9]+')\n",
        "\n",
        "nlp = spacy.load('en_core_web_sm')\n",
        "stop_words = nlp.Defaults.stop_words\n",
        "\n",
        "# Cache processed strings and text sentiments\n",
        "processed_strings = {}\n",
        "text_sentiments = {}\n",
        "\n",
        "def remove_urls(text):\n",
        "    # Use compiled regex pattern to remove urls\n",
        "    return url_pattern.sub('', text)\n",
        "\n",
        "def remove_stops(text):\n",
        "    # Split the text into tokens\n",
        "    tokens = text.split()\n",
        "    # Filter out stop words using the stop_words set\n",
        "    wo_stops = [token for token in tokens if token.lower() not in stop_words]\n",
        "    return \" \".join(wo_stops)\n",
        "\n",
        "def remove_specials(text):\n",
        "    # Use compiled regex pattern to remove special characters\n",
        "    clean_text = special_char_pattern.sub(' ', text)\n",
        "    # Use list comprehension to filter out short words\n",
        "    clean_text = \" \".join(text for text in clean_text.split(' ') if len(text) > 2)\n",
        "    return clean_text\n",
        "\n",
        "def extract_feats(text):\n",
        "    # Split the text into tokens\n",
        "    tokens = text.split()\n",
        "    # Filter out tokens that are not nouns or verbs\n",
        "    feats = [token for token in tokens if TextBlob(token).tags[0][1] in ['NN', 'NNS', 'VB', 'VBD', 'VBG', 'VBN', 'VBP', 'VBZ']]\n",
        "    return feats\n",
        "\n",
        "def preprocess_text(text):\n",
        "    if text in processed_strings:\n",
        "        return processed_strings[text]\n",
        "\n",
        "    wo_urls = remove_urls(text)\n",
        "    wo_stops = remove_stops(wo_urls)\n",
        "    clean_text = remove_specials(wo_stops)\n",
        "    processed_strings[text] = clean_text\n",
        "    return clean_text\n",
        "\n",
        "def get_text_sentiments(text):\n",
        "    if text in text_sentiments:\n",
        "        return text_sentiments[text]\n",
        "    sentiment = round(TextBlob(text).sentiment.polarity, 5)\n",
        "    text_sentiments[text] = sentiment\n",
        "    return sentiment"
      ]
    },
    {
      "cell_type": "markdown",
      "metadata": {
        "id": "mMh_bgs_SY_0"
      },
      "source": [
        "## Обработка текста"
      ]
    },
    {
      "cell_type": "code",
      "execution_count": 7,
      "metadata": {
        "id": "kXnXEpRXSY_0"
      },
      "outputs": [],
      "source": [
        "text_columns = [\"text\", \"comment\"]\n",
        "df[text_columns] = df[text_columns].applymap(preprocess_text)\n",
        "#df[\"post_sentiments\"] = df[\"text\"].apply(get_text_sentiments)\n",
        "#df[\"comment_sentiments\"] = df[\"comment\"].apply(get_text_sentiments)"
      ]
    },
    {
      "attachments": {},
      "cell_type": "markdown",
      "metadata": {
        "id": "VG3CQAmGX0a9"
      },
      "source": [
        "### Разделение данные и начало тренировки"
      ]
    },
    {
      "cell_type": "code",
      "execution_count": 8,
      "metadata": {
        "id": "ZdrFH_xBX13N"
      },
      "outputs": [
        {
          "data": {
            "text/html": [
              "<div>\n",
              "<style scoped>\n",
              "    .dataframe tbody tr th:only-of-type {\n",
              "        vertical-align: middle;\n",
              "    }\n",
              "\n",
              "    .dataframe tbody tr th {\n",
              "        vertical-align: top;\n",
              "    }\n",
              "\n",
              "    .dataframe thead th {\n",
              "        text-align: right;\n",
              "    }\n",
              "</style>\n",
              "<table border=\"1\" class=\"dataframe\">\n",
              "  <thead>\n",
              "    <tr style=\"text-align: right;\">\n",
              "      <th></th>\n",
              "      <th>text</th>\n",
              "      <th>comment</th>\n",
              "      <th>score</th>\n",
              "    </tr>\n",
              "  </thead>\n",
              "  <tbody>\n",
              "    <tr>\n",
              "      <th>357442</th>\n",
              "      <td>ridiculous Common Core test graders</td>\n",
              "      <td>test bad exposed math grade hate think life different degrees mathematics x27 heard stories grader niece crying trying complete daily homework x27 starting understand why</td>\n",
              "      <td>2</td>\n",
              "    </tr>\n",
              "  </tbody>\n",
              "</table>\n",
              "</div>"
            ],
            "text/plain": [
              "                                       text  \\\n",
              "357442  ridiculous Common Core test graders   \n",
              "\n",
              "                                                                                                                                                                           comment  \\\n",
              "357442  test bad exposed math grade hate think life different degrees mathematics x27 heard stories grader niece crying trying complete daily homework x27 starting understand why   \n",
              "\n",
              "        score  \n",
              "357442      2  "
            ]
          },
          "execution_count": 8,
          "metadata": {},
          "output_type": "execute_result"
        }
      ],
      "source": [
        "df.sample(1)"
      ]
    },
    {
      "cell_type": "code",
      "execution_count": 9,
      "metadata": {
        "id": "jemETxt0abMx"
      },
      "outputs": [],
      "source": [
        "text_features = [\"text\", \"comment\"]\n",
        "# Сентиментальность не оказала эффекта на скоре\n",
        "#num_features = [\"post_sentiments\", \"comment_sentiments\"]\n",
        "X = df[text_features]\n",
        "y = df[\"score\"]\n",
        "\n",
        "from sklearn.model_selection import train_test_split\n",
        "x_train, x_valid, y_train, y_valid = train_test_split(X, y, test_size=0.1, train_size=0.9, shuffle=False)"
      ]
    },
    {
      "cell_type": "code",
      "execution_count": 10,
      "metadata": {
        "id": "qgeErxTIb33-"
      },
      "outputs": [],
      "source": [
        "from catboost import CatBoostClassifier, Pool"
      ]
    },
    {
      "cell_type": "code",
      "execution_count": 11,
      "metadata": {
        "id": "PLaqRnegb4-t"
      },
      "outputs": [],
      "source": [
        "model = CatBoostClassifier(task_type=\"GPU\", \n",
        "                           verbose=True)"
      ]
    },
    {
      "cell_type": "code",
      "execution_count": 12,
      "metadata": {},
      "outputs": [],
      "source": [
        "pool = Pool(x_train, y_train, text_features=text_features, feature_names=list(x_train.columns))"
      ]
    },
    {
      "cell_type": "code",
      "execution_count": 13,
      "metadata": {
        "id": "thE4EWnjcncV"
      },
      "outputs": [
        {
          "name": "stdout",
          "output_type": "stream",
          "text": [
            "Learning rate set to 0.219949\n",
            "0:\tlearn: 1.5586656\ttotal: 306ms\tremaining: 5m 5s\n",
            "1:\tlearn: 1.5310953\ttotal: 432ms\tremaining: 3m 35s\n",
            "2:\tlearn: 1.4950929\ttotal: 643ms\tremaining: 3m 33s\n",
            "3:\tlearn: 1.4729976\ttotal: 833ms\tremaining: 3m 27s\n",
            "4:\tlearn: 1.4603432\ttotal: 966ms\tremaining: 3m 12s\n",
            "5:\tlearn: 1.4527315\ttotal: 1.1s\tremaining: 3m 2s\n",
            "6:\tlearn: 1.4425627\ttotal: 1.28s\tremaining: 3m 1s\n",
            "7:\tlearn: 1.4389195\ttotal: 1.42s\tremaining: 2m 55s\n",
            "8:\tlearn: 1.4366518\ttotal: 1.56s\tremaining: 2m 51s\n",
            "9:\tlearn: 1.4352297\ttotal: 1.7s\tremaining: 2m 48s\n",
            "10:\tlearn: 1.4343452\ttotal: 1.84s\tremaining: 2m 45s\n",
            "11:\tlearn: 1.4284775\ttotal: 1.99s\tremaining: 2m 43s\n",
            "12:\tlearn: 1.4239555\ttotal: 2.13s\tremaining: 2m 42s\n",
            "13:\tlearn: 1.4232328\ttotal: 2.27s\tremaining: 2m 40s\n",
            "14:\tlearn: 1.4196859\ttotal: 2.44s\tremaining: 2m 40s\n",
            "15:\tlearn: 1.4193417\ttotal: 2.58s\tremaining: 2m 38s\n",
            "16:\tlearn: 1.4166549\ttotal: 2.72s\tremaining: 2m 37s\n",
            "17:\tlearn: 1.4144716\ttotal: 2.86s\tremaining: 2m 36s\n",
            "18:\tlearn: 1.4124785\ttotal: 3.01s\tremaining: 2m 35s\n",
            "19:\tlearn: 1.4108368\ttotal: 3.13s\tremaining: 2m 33s\n",
            "20:\tlearn: 1.4106374\ttotal: 3.26s\tremaining: 2m 32s\n",
            "21:\tlearn: 1.4092986\ttotal: 3.38s\tremaining: 2m 30s\n",
            "22:\tlearn: 1.4091695\ttotal: 3.52s\tremaining: 2m 29s\n",
            "23:\tlearn: 1.4090891\ttotal: 3.66s\tremaining: 2m 28s\n",
            "24:\tlearn: 1.4078455\ttotal: 3.81s\tremaining: 2m 28s\n",
            "25:\tlearn: 1.4068122\ttotal: 3.93s\tremaining: 2m 27s\n",
            "26:\tlearn: 1.4058189\ttotal: 4.06s\tremaining: 2m 26s\n",
            "27:\tlearn: 1.4046893\ttotal: 4.22s\tremaining: 2m 26s\n",
            "28:\tlearn: 1.4040477\ttotal: 4.36s\tremaining: 2m 25s\n",
            "29:\tlearn: 1.4039584\ttotal: 4.48s\tremaining: 2m 24s\n",
            "30:\tlearn: 1.4039052\ttotal: 4.61s\tremaining: 2m 23s\n",
            "31:\tlearn: 1.4031308\ttotal: 4.71s\tremaining: 2m 22s\n",
            "32:\tlearn: 1.4030977\ttotal: 4.83s\tremaining: 2m 21s\n",
            "33:\tlearn: 1.4023342\ttotal: 4.95s\tremaining: 2m 20s\n",
            "34:\tlearn: 1.4016673\ttotal: 5.06s\tremaining: 2m 19s\n",
            "35:\tlearn: 1.4016504\ttotal: 5.18s\tremaining: 2m 18s\n",
            "36:\tlearn: 1.4008575\ttotal: 5.32s\tremaining: 2m 18s\n",
            "37:\tlearn: 1.4002459\ttotal: 5.44s\tremaining: 2m 17s\n",
            "38:\tlearn: 1.3998622\ttotal: 5.57s\tremaining: 2m 17s\n",
            "39:\tlearn: 1.3998253\ttotal: 5.7s\tremaining: 2m 16s\n",
            "40:\tlearn: 1.3993060\ttotal: 5.81s\tremaining: 2m 15s\n",
            "41:\tlearn: 1.3992892\ttotal: 5.94s\tremaining: 2m 15s\n",
            "42:\tlearn: 1.3992784\ttotal: 6.07s\tremaining: 2m 15s\n",
            "43:\tlearn: 1.3992724\ttotal: 6.19s\tremaining: 2m 14s\n",
            "44:\tlearn: 1.3986949\ttotal: 6.31s\tremaining: 2m 13s\n",
            "45:\tlearn: 1.3983268\ttotal: 6.44s\tremaining: 2m 13s\n",
            "46:\tlearn: 1.3977847\ttotal: 6.56s\tremaining: 2m 13s\n",
            "47:\tlearn: 1.3973901\ttotal: 6.67s\tremaining: 2m 12s\n",
            "48:\tlearn: 1.3969093\ttotal: 6.78s\tremaining: 2m 11s\n",
            "49:\tlearn: 1.3967715\ttotal: 6.92s\tremaining: 2m 11s\n",
            "50:\tlearn: 1.3967673\ttotal: 6.98s\tremaining: 2m 9s\n"
          ]
        },
        {
          "ename": "",
          "evalue": "",
          "output_type": "error",
          "traceback": [
            "\u001b[1;31mCanceled future for execute_request message before replies were done"
          ]
        },
        {
          "ename": "",
          "evalue": "",
          "output_type": "error",
          "traceback": [
            "\u001b[1;31mThe Kernel crashed while executing code in the the current cell or a previous cell. Please review the code in the cell(s) to identify a possible cause of the failure. Click <a href='https://aka.ms/vscodeJupyterKernelCrash'>here</a> for more info. View Jupyter <a href='command:jupyter.viewOutput'>log</a> for further details."
          ]
        }
      ],
      "source": [
        "model.fit(x_train, y_train, text_features=text_features)"
      ]
    },
    {
      "cell_type": "code",
      "execution_count": null,
      "metadata": {
        "id": "DIZai0BbdfKs"
      },
      "outputs": [],
      "source": [
        "preds = model.predict(x_valid)"
      ]
    },
    {
      "cell_type": "code",
      "execution_count": null,
      "metadata": {
        "id": "lbu9fwvogVR8"
      },
      "outputs": [],
      "source": [
        "from sklearn.metrics import accuracy_score, precision_score, recall_score, f1_score, roc_auc_score\n",
        "accuracy_score(y_valid, preds)"
      ]
    },
    {
      "cell_type": "code",
      "execution_count": null,
      "metadata": {
        "id": "A-5Io1mAlPQQ"
      },
      "outputs": [],
      "source": [
        "model.save(\"catboost_model.cbm\")"
      ]
    }
  ],
  "metadata": {
    "accelerator": "GPU",
    "colab": {
      "provenance": [],
      "toc_visible": true
    },
    "gpuClass": "standard",
    "kernelspec": {
      "display_name": "Python 3",
      "language": "python",
      "name": "python3"
    },
    "language_info": {
      "codemirror_mode": {
        "name": "ipython",
        "version": 3
      },
      "file_extension": ".py",
      "mimetype": "text/x-python",
      "name": "python",
      "nbconvert_exporter": "python",
      "pygments_lexer": "ipython3",
      "version": "3.9.13"
    },
    "orig_nbformat": 4
  },
  "nbformat": 4,
  "nbformat_minor": 0
}
