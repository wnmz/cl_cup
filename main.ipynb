{
 "cells": [
  {
   "cell_type": "code",
   "execution_count": 42,
   "metadata": {},
   "outputs": [
    {
     "data": {
      "text/plain": [
       "False"
      ]
     },
     "execution_count": 42,
     "metadata": {},
     "output_type": "execute_result"
    }
   ],
   "source": [
    "import pandas as pd\n",
    "import numpy as np\n",
    "import json\n",
    "import re\n",
    "import spacy # NLP Preprocessor\n",
    "spacy.prefer_gpu()"
   ]
  },
  {
   "cell_type": "code",
   "execution_count": 43,
   "metadata": {},
   "outputs": [],
   "source": [
    "def get_data_from_json(path: str) -> pd.DataFrame:\n",
    "    with open(path, \"r\") as json_file:\n",
    "        json_lines = (line for line in json_file)\n",
    "        rows = (\n",
    "            {\n",
    "                \"text\": data[\"text\"],\n",
    "                \"comment\": comment[\"text\"],\n",
    "                \"score\": comment[\"score\"]\n",
    "            }\n",
    "            for line in json_lines\n",
    "            for data in [json.loads(line)]\n",
    "            for comment in data[\"comments\"]\n",
    "        )\n",
    "        return pd.DataFrame(rows, columns=[\"text\", \"comment\", \"score\"])\n",
    "\n"
   ]
  },
  {
   "cell_type": "code",
   "execution_count": 44,
   "metadata": {},
   "outputs": [],
   "source": [
    "dataset_path = './datasets/ranking_train.jsonl'\n",
    "df = get_data_from_json(dataset_path)"
   ]
  },
  {
   "cell_type": "code",
   "execution_count": 45,
   "metadata": {},
   "outputs": [],
   "source": [
    "test = df.sample(10) "
   ]
  },
  {
   "cell_type": "code",
   "execution_count": 46,
   "metadata": {},
   "outputs": [],
   "source": [
    "import spacy\n",
    "\n",
    "nlp = spacy.load(\"en_core_web_sm\")\n",
    "doc = nlp(test.iloc[0].comment)"
   ]
  },
  {
   "cell_type": "code",
   "execution_count": 59,
   "metadata": {},
   "outputs": [],
   "source": [
    "def remove_stops(doc):\n",
    "    \"\"\"\n",
    "    Удаляет часто встречающиеся слова\n",
    "    \"\"\"\n",
    "    wo_stops = []\n",
    "    for token in doc:\n",
    "        if not token.is_stop:\n",
    "            wo_stops.append(token.text)\n",
    "\n",
    "    wo_stops = \" \".join(wo_stops)\n",
    "    return wo_stops\n",
    "\n",
    "\n",
    "def remove_specials(wo_stops):\n",
    "    \"\"\"\n",
    "    Удаляет cпециальные симловы оставляя только буквы\n",
    "    \"\"\"\n",
    "    clean_text = re.sub('[^A-Za-z0-9]+', ' ', wo_stops)\n",
    "    clean_text = \" \".join(\n",
    "        [text for text in clean_text.split(' ') if len(text) > 2])\n",
    "    return clean_text\n",
    "\n",
    "def extract_feats(doc):\n",
    "    \"\"\"\n",
    "    Преобразовать текст к массиву слов\n",
    "    \"\"\"\n",
    "    feats = []\n",
    "    for token in doc:\n",
    "        if token.pos_ in ['NOUN','VERB']:\n",
    "            feats.append(token.text)\n",
    "    return feats"
   ]
  },
  {
   "cell_type": "code",
   "execution_count": 67,
   "metadata": {},
   "outputs": [],
   "source": [
    "doc = nlp(test.iloc[1].comment)"
   ]
  },
  {
   "cell_type": "code",
   "execution_count": 57,
   "metadata": {},
   "outputs": [],
   "source": [
    "wo_stops = remove_stops(doc)\n",
    "clean_text = remove_specials(wo_stops)"
   ]
  }
 ],
 "metadata": {
  "kernelspec": {
   "display_name": "Python 3",
   "language": "python",
   "name": "python3"
  },
  "language_info": {
   "codemirror_mode": {
    "name": "ipython",
    "version": 3
   },
   "file_extension": ".py",
   "mimetype": "text/x-python",
   "name": "python",
   "nbconvert_exporter": "python",
   "pygments_lexer": "ipython3",
   "version": "3.9.13"
  },
  "orig_nbformat": 4
 },
 "nbformat": 4,
 "nbformat_minor": 2
}
