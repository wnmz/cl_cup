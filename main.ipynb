{
  "cells": [
    {
      "cell_type": "code",
      "execution_count": null,
      "metadata": {
        "id": "F-fM9YeNSehU"
      },
      "outputs": [],
      "source": [
        "#from google.colab import drive\n",
        "#drive.mount('/content/drive')"
      ]
    },
    {
      "cell_type": "code",
      "execution_count": 2,
      "metadata": {
        "id": "XlauWye7SY_v"
      },
      "outputs": [],
      "source": [
        "import pandas as pd\n",
        "import numpy as np\n",
        "import json\n",
        "import re\n",
        "import spacy # NLP Preprocessor\n",
        "from textblob import TextBlob\n",
        "spacy.prefer_gpu()\n",
        "pd.set_option('display.max_colwidth', 1000)"
      ]
    },
    {
      "cell_type": "code",
      "execution_count": null,
      "metadata": {
        "id": "YfqhSZIOSY_w"
      },
      "outputs": [],
      "source": [
        "def get_data_from_json(path: str) -> pd.DataFrame:\n",
        "    with open(path, \"r\") as json_file:\n",
        "        json_lines = (line for line in json_file)\n",
        "        rows = (\n",
        "            {\n",
        "                \"text\": data[\"text\"],\n",
        "                \"comment\": comment[\"text\"],\n",
        "                \"score\": comment[\"score\"]\n",
        "            }\n",
        "            for line in json_lines\n",
        "            for data in [json.loads(line)]\n",
        "            for comment in data[\"comments\"]\n",
        "        )\n",
        "        return pd.DataFrame(rows, columns=[\"text\", \"comment\", \"score\"])\n",
        "\n"
      ]
    },
    {
      "cell_type": "code",
      "execution_count": null,
      "metadata": {
        "id": "LzEMGePgSY_x"
      },
      "outputs": [],
      "source": [
        "dataset_path = '/content/drive/MyDrive/datasets/ranking_train.jsonl'\n",
        "df = get_data_from_json(dataset_path)"
      ]
    },
    {
      "cell_type": "code",
      "execution_count": null,
      "metadata": {
        "id": "GTteiSlxSY_x"
      },
      "outputs": [],
      "source": [
        "df.sample(3)"
      ]
    },
    {
      "cell_type": "markdown",
      "metadata": {
        "id": "V4MJT5lsSY_y"
      },
      "source": [
        "### Функци для предобработки текста"
      ]
    },
    {
      "cell_type": "code",
      "execution_count": 5,
      "metadata": {
        "id": "3sfgzqt3SY_z"
      },
      "outputs": [],
      "source": [
        "# Compile regex pattern for removing urls and special characters\n",
        "url_pattern = re.compile(r'(http|www)\\S+')\n",
        "special_char_pattern = re.compile('[^A-Za-z0-9]+')\n",
        "\n",
        "nlp = spacy.load('en_core_web_sm')\n",
        "stop_words = nlp.Defaults.stop_words\n",
        "\n",
        "# Cache processed strings and text sentiments\n",
        "processed_strings = {}\n",
        "text_sentiments = {}\n",
        "\n",
        "def remove_urls(text):\n",
        "    # Use compiled regex pattern to remove urls\n",
        "    return url_pattern.sub('', text)\n",
        "\n",
        "def remove_stops(text):\n",
        "    # Split the text into tokens\n",
        "    tokens = text.split()\n",
        "    # Filter out stop words using the stop_words set\n",
        "    wo_stops = [token for token in tokens if token.lower() not in stop_words]\n",
        "    return \" \".join(wo_stops)\n",
        "\n",
        "def remove_specials(text):\n",
        "    # Use compiled regex pattern to remove special characters\n",
        "    clean_text = special_char_pattern.sub(' ', text)\n",
        "    # Use list comprehension to filter out short words\n",
        "    clean_text = \" \".join(text for text in clean_text.split(' ') if len(text) > 2)\n",
        "    return clean_text\n",
        "\n",
        "def extract_feats(text):\n",
        "    # Split the text into tokens\n",
        "    tokens = text.split()\n",
        "    # Filter out tokens that are not nouns or verbs\n",
        "    feats = [token for token in tokens if TextBlob(token).tags[0][1] in ['NN', 'NNS', 'VB', 'VBD', 'VBG', 'VBN', 'VBP', 'VBZ']]\n",
        "    return feats\n",
        "\n",
        "def preprocess_text(text):\n",
        "    if text in processed_strings:\n",
        "        return processed_strings[text]\n",
        "\n",
        "    wo_urls = remove_urls(text)\n",
        "    wo_stops = remove_stops(wo_urls)\n",
        "    clean_text = remove_specials(wo_stops)\n",
        "    processed_strings[text] = clean_text\n",
        "    return clean_text\n",
        "\n",
        "def get_text_sentiments(text):\n",
        "    if text in text_sentiments:\n",
        "        return text_sentiments[text]\n",
        "    sentiment = round(TextBlob(text).sentiment.polarity, 5)\n",
        "    text_sentiments[text] = sentiment\n",
        "    return sentiment"
      ]
    },
    {
      "cell_type": "markdown",
      "metadata": {
        "id": "mMh_bgs_SY_0"
      },
      "source": [
        "## Обработка текста"
      ]
    },
    {
      "cell_type": "code",
      "execution_count": null,
      "metadata": {
        "id": "kXnXEpRXSY_0"
      },
      "outputs": [],
      "source": [
        "text_columns = [\"text\", \"comment\"]\n",
        "df[text_columns] = df[text_columns].applymap(preprocess_text)\n",
        "df[\"post_sentiments\"] = df[\"text\"].apply(get_text_sentiments)\n",
        "df[\"comment_sentiments\"] = df[\"comment\"].apply(get_text_sentiments)"
      ]
    },
    {
      "cell_type": "markdown",
      "metadata": {
        "id": "VG3CQAmGX0a9"
      },
      "source": []
    },
    {
      "cell_type": "code",
      "execution_count": null,
      "metadata": {
        "id": "ZdrFH_xBX13N"
      },
      "outputs": [],
      "source": [
        "df.sample(1)"
      ]
    },
    {
      "cell_type": "code",
      "execution_count": null,
      "metadata": {
        "id": "Frsss_GcZud4"
      },
      "outputs": [],
      "source": [
        "import locale\n",
        "locale.getpreferredencoding = lambda: \"UTF-8\""
      ]
    },
    {
      "cell_type": "code",
      "execution_count": null,
      "metadata": {
        "id": "jemETxt0abMx"
      },
      "outputs": [],
      "source": [
        "text_features = [\"text\", \"comment\"]\n",
        "num_features = [\"post_sentiments\", \"comment_sentiments\"]\n",
        "X = df[text_features + num_features]\n",
        "y = df[\"score\"]\n",
        "\n",
        "from sklearn.model_selection import train_test_split\n",
        "x_train, x_valid, y_train, y_valid = train_test_split(X, y, test_size=0.1, train_size=0.9)"
      ]
    },
    {
      "cell_type": "code",
      "execution_count": null,
      "metadata": {
        "id": "-jA2hS5jElRH"
      },
      "outputs": [],
      "source": [
        "%pip install catboost"
      ]
    },
    {
      "cell_type": "code",
      "execution_count": null,
      "metadata": {
        "id": "qgeErxTIb33-"
      },
      "outputs": [],
      "source": [
        "from catboost import CatBoostClassifier"
      ]
    },
    {
      "cell_type": "code",
      "execution_count": null,
      "metadata": {
        "id": "PLaqRnegb4-t"
      },
      "outputs": [],
      "source": [
        "model = CatBoostClassifier(iterations = 50000, \n",
        "                           task_type=\"GPU\", \n",
        "                           verbose=True, \n",
        "                           learning_rate=0.05,\n",
        "                           early_stopping_rounds=10,\n",
        "                           custom_loss=['Accuracy'])"
      ]
    },
    {
      "cell_type": "code",
      "execution_count": null,
      "metadata": {
        "id": "thE4EWnjcncV"
      },
      "outputs": [],
      "source": [
        "model.fit(x_train, y_train, text_features = text_features)"
      ]
    },
    {
      "cell_type": "code",
      "execution_count": null,
      "metadata": {
        "id": "DIZai0BbdfKs"
      },
      "outputs": [],
      "source": [
        "preds = model.predict(x_valid)"
      ]
    },
    {
      "cell_type": "code",
      "execution_count": null,
      "metadata": {
        "id": "uP7E6JS7dkNU"
      },
      "outputs": [],
      "source": [
        "from sklearn.metrics import ndcg_score"
      ]
    },
    {
      "cell_type": "code",
      "execution_count": null,
      "metadata": {
        "id": "NruWiZite_rw"
      },
      "outputs": [],
      "source": [
        "y_valid"
      ]
    },
    {
      "cell_type": "code",
      "execution_count": null,
      "metadata": {
        "id": "m1KrJzgod7pZ"
      },
      "outputs": [],
      "source": [
        "y_valid_pred = model.predict_proba(x_valid)"
      ]
    },
    {
      "cell_type": "code",
      "execution_count": null,
      "metadata": {
        "id": "lbu9fwvogVR8"
      },
      "outputs": [],
      "source": [
        "from sklearn.metrics import accuracy_score, precision_score, recall_score, f1_score, roc_auc_score\n",
        "accuracy_score(y_valid, preds)"
      ]
    },
    {
      "cell_type": "code",
      "execution_count": null,
      "metadata": {
        "id": "A-5Io1mAlPQQ"
      },
      "outputs": [],
      "source": [
        "model.save(\"model.cbm\")"
      ]
    }
  ],
  "metadata": {
    "accelerator": "GPU",
    "colab": {
      "provenance": [],
      "toc_visible": true
    },
    "gpuClass": "standard",
    "kernelspec": {
      "display_name": "Python 3",
      "language": "python",
      "name": "python3"
    },
    "language_info": {
      "codemirror_mode": {
        "name": "ipython",
        "version": 3
      },
      "file_extension": ".py",
      "mimetype": "text/x-python",
      "name": "python",
      "nbconvert_exporter": "python",
      "pygments_lexer": "ipython3",
      "version": "3.9.13"
    },
    "orig_nbformat": 4
  },
  "nbformat": 4,
  "nbformat_minor": 0
}
